{
 "cells": [
  {
   "cell_type": "code",
   "execution_count": 3,
   "id": "c5d867f9-3a33-45d4-b559-53295395d256",
   "metadata": {},
   "outputs": [
    {
     "name": "stdout",
     "output_type": "stream",
     "text": [
      "{\"accountType\":\"CFD\",\"accountInfo\":{\"balance\":20000.0,\"deposit\":0.0,\"profitLoss\":0.0,\"available\":20000.0},\"currencyIsoCode\":\"CHF\",\"currencySymbol\":\"SF\",\"currentAccountId\":\"Z4DRJ2\",\"lightstreamerEndpoint\":\"https://demo-apd.marketdatasystems.com\",\"accounts\":[{\"accountId\":\"Z4DRJ2\",\"accountName\":\"CFD\",\"preferred\":true,\"accountType\":\"CFD\"}],\"clientId\":\"103004688\",\"timezoneOffset\":2,\"hasActiveDemoAccounts\":true,\"hasActiveLiveAccounts\":true,\"trailingStopsEnabled\":false,\"reroutingEnvironment\":null,\"dealingEnabled\":true}\n"
     ]
    }
   ],
   "source": [
    "import http.client\n",
    "login = \"CAnsaldi\"\n",
    "pw = \"Altstetten2021\"\n",
    "\n",
    "\n",
    "conn = http.client.HTTPSConnection(\"demo-api.ig.com\")\n",
    "payload = \"{\\n    \\\"identifier\\\": \\\"CAnsaldi\\\",\\n    \\\"password\\\": \\\"Altstetten2021\\\",\\n    \\\"encryptedPassword\\\": null\\n}\"\n",
    "headers = {\n",
    "  'Content-Type': 'application/json; charset=UTF-8',\n",
    "  'Accept': 'application/json; charset=UTF-8',\n",
    "  'X-IG-API-KEY': '41d4394fa9d70f91686207b08890a2ef7f3c585c',\n",
    "  'Version': '2',\n",
    "  'X-SECURITY-TOKEN': '07c74c287a4d889551eb5d3299366179d9ad892de98b6f9858e97e3c4108b9CD01113',\n",
    "  'CST': '28585d68029b089505a802734d8222fe383b04f3e4123f8084a434439358e1CU01113'\n",
    "}\n",
    "conn.request(\"POST\", \"/gateway/deal/session\", payload, headers)\n",
    "res = conn.getresponse()\n",
    "data = res.read()\n",
    "print(data.decode(\"utf-8\"))"
   ]
  },
  {
   "cell_type": "code",
   "execution_count": null,
   "id": "292c7b33-1bf6-484a-ba85-f8c1fefa9093",
   "metadata": {},
   "outputs": [],
   "source": []
  }
 ],
 "metadata": {
  "kernelspec": {
   "display_name": "Python 3",
   "language": "python",
   "name": "python3"
  },
  "language_info": {
   "codemirror_mode": {
    "name": "ipython",
    "version": 3
   },
   "file_extension": ".py",
   "mimetype": "text/x-python",
   "name": "python",
   "nbconvert_exporter": "python",
   "pygments_lexer": "ipython3",
   "version": "3.8.8"
  }
 },
 "nbformat": 4,
 "nbformat_minor": 5
}
